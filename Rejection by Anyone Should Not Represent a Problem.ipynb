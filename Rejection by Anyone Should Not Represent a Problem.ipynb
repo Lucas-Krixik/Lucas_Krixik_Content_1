{
 "cells": [
  {
   "cell_type": "markdown",
   "metadata": {},
   "source": [
    "# Rejection by Anyone Should Not Represent a Problem\n",
    "\n",
    "This is article is written with entrepreneurs in mind.\n",
    "\n",
    "However, given that rejection is untiringly present across everything life is, you may find that it applies to you if you're not an entrepreneur. You may be in a personal relationship, or pursuing one. You may have a corporate job and be seeking a promotion or a sale. You may be applying to an educational opportunity. You may have dreams of joining an elite military unit.\n",
    "\n",
    "Or you may be an entrepreneur.\n",
    "\n",
    "And if you're an entrepreneur, you need to be aware of what you've signed up for. This is the rough and rocky road, the one without a roof, the one that offers few, if any, rest stations along the way. There's no parachute strapped to your back, no safety harness, no instruction manual. You've decided to put yourself through the meanest obstacle course knowing that nobody's watching and that most people fail, many of their deeds therein never known to anyone.\n",
    "\n",
    "The strength you need to succeed at this road, not to speak of the intelligence, the luck, the perseverance, and many of the other factors that may on a whim doom or propel you, need to be greater than what capacity you think you have. This is a road of excess, but not a road of pleasure. Steel yourself for varieties and depths of punishment that 19th-century novelists universally failed to anticipate.\n",
    "\n",
    "Rejection? Rejection may become part of your daily bread. Didn't get that investment? Didn't get into that accelerator? Didn't get that hire, that deal, that vendor, that nod, that press article?\n",
    "\n",
    "You shouldn't have expected to. Rejection is not a surprise, rejection is what you assume. Not rejected? Terrific. An unexpected windfall. Make the most of it! Rejected? Told \"no\", walked away from, shut the door on?\n",
    "\n",
    "Who cares? The path onwards is clear. Rejection is not even strong wind that'll cast you off the cliff. It's a breeze. An annoying one, but your intention was always to keep going regardless, because onwards is yonder. The next step is thus because that's where your foot's going, and you can see the path all the way to the bend. You're going to make it to the bend, and then you're going beyond it, because that's what you're doing now. You're an entrepreneur. This is what you signed up for.\n",
    "\n",
    "And why did you sign up for it? Tough to tell, really.\n",
    "\n",
    "Maybe because you know that, on the off-chance that you win, your life and that of those around you may be permanently changed. Odds are low, but heavens, what a prize lies at the end.\n",
    "\n",
    "Or maybe you signed up for it because you realized that no other avenue is appealing. That success despite the punishment is what gets you out of bed in the morning. Because you realized that even if you only make it partly down the path, and fail at reaching that golden peak, success is having made it that far at all.\n",
    "\n",
    "Rejection? Just a breeze that remind you of something. The path keeps going. Ever forward, there's a good lad, there's a good lass. Now let's advance a bit more and see what lies around the bend."
   ]
  }
 ],
 "metadata": {
  "kernelspec": {
   "display_name": "Python 3",
   "language": "python",
   "name": "python3"
  },
  "language_info": {
   "codemirror_mode": {
    "name": "ipython",
    "version": 3
   },
   "file_extension": ".py",
   "mimetype": "text/x-python",
   "name": "python",
   "nbconvert_exporter": "python",
   "pygments_lexer": "ipython3",
   "version": "3.12.0"
  }
 },
 "nbformat": 4,
 "nbformat_minor": 2
}
