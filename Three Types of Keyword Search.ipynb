{
 "cells": [
  {
   "cell_type": "code",
   "execution_count": 1,
   "metadata": {},
   "outputs": [
    {
     "name": "stdout",
     "output_type": "stream",
     "text": [
      "Requirement already satisfied: krixik in c:\\users\\lucas\\appdata\\local\\programs\\python\\python312\\lib\\site-packages (1.1.17)Note: you may need to restart the kernel to use updated packages.\n"
     ]
    },
    {
     "name": "stderr",
     "output_type": "stream",
     "text": [
      "\n",
      "[notice] A new release of pip is available: 23.3.1 -> 24.0\n",
      "[notice] To update, run: python.exe -m pip install --upgrade pip\n"
     ]
    },
    {
     "name": "stdout",
     "output_type": "stream",
     "text": [
      "\n",
      "Requirement already satisfied: boto3 in c:\\users\\lucas\\appdata\\local\\programs\\python\\python312\\lib\\site-packages (from krixik) (1.34.39)\n",
      "Requirement already satisfied: nltk in c:\\users\\lucas\\appdata\\local\\programs\\python\\python312\\lib\\site-packages (from krixik) (3.8.1)\n",
      "Requirement already satisfied: numpy in c:\\users\\lucas\\appdata\\local\\programs\\python\\python312\\lib\\site-packages (from krixik) (1.26.1)\n",
      "Requirement already satisfied: pillow in c:\\users\\lucas\\appdata\\local\\programs\\python\\python312\\lib\\site-packages (from krixik) (10.2.0)\n",
      "Requirement already satisfied: pyaml in c:\\users\\lucas\\appdata\\local\\programs\\python\\python312\\lib\\site-packages (from krixik) (23.12.0)\n",
      "Requirement already satisfied: pypdf in c:\\users\\lucas\\appdata\\local\\programs\\python\\python312\\lib\\site-packages (from krixik) (3.17.1)\n",
      "Requirement already satisfied: pytest in c:\\users\\lucas\\appdata\\local\\programs\\python\\python312\\lib\\site-packages (from krixik) (7.4.3)\n",
      "Requirement already satisfied: pytest-subtests in c:\\users\\lucas\\appdata\\local\\programs\\python\\python312\\lib\\site-packages (from krixik) (0.11.0)\n",
      "Requirement already satisfied: python-docx in c:\\users\\lucas\\appdata\\local\\programs\\python\\python312\\lib\\site-packages (from krixik) (1.1.0)\n",
      "Requirement already satisfied: python-dotenv in c:\\users\\lucas\\appdata\\local\\programs\\python\\python312\\lib\\site-packages (from krixik) (1.0.0)\n",
      "Requirement already satisfied: python-pptx in c:\\users\\lucas\\appdata\\local\\programs\\python\\python312\\lib\\site-packages (from krixik) (0.6.23)\n",
      "Requirement already satisfied: requests in c:\\users\\lucas\\appdata\\local\\programs\\python\\python312\\lib\\site-packages (from krixik) (2.31.0)\n",
      "Requirement already satisfied: botocore<1.35.0,>=1.34.39 in c:\\users\\lucas\\appdata\\local\\programs\\python\\python312\\lib\\site-packages (from boto3->krixik) (1.34.52)\n",
      "Requirement already satisfied: jmespath<2.0.0,>=0.7.1 in c:\\users\\lucas\\appdata\\local\\programs\\python\\python312\\lib\\site-packages (from boto3->krixik) (1.0.1)\n",
      "Requirement already satisfied: s3transfer<0.11.0,>=0.10.0 in c:\\users\\lucas\\appdata\\local\\programs\\python\\python312\\lib\\site-packages (from boto3->krixik) (0.10.0)\n",
      "Requirement already satisfied: click in c:\\users\\lucas\\appdata\\local\\programs\\python\\python312\\lib\\site-packages (from nltk->krixik) (8.1.7)\n",
      "Requirement already satisfied: joblib in c:\\users\\lucas\\appdata\\local\\programs\\python\\python312\\lib\\site-packages (from nltk->krixik) (1.3.2)\n",
      "Requirement already satisfied: regex>=2021.8.3 in c:\\users\\lucas\\appdata\\local\\programs\\python\\python312\\lib\\site-packages (from nltk->krixik) (2023.12.25)\n",
      "Requirement already satisfied: tqdm in c:\\users\\lucas\\appdata\\local\\programs\\python\\python312\\lib\\site-packages (from nltk->krixik) (4.66.1)\n",
      "Requirement already satisfied: PyYAML in c:\\users\\lucas\\appdata\\local\\programs\\python\\python312\\lib\\site-packages (from pyaml->krixik) (6.0.1)\n",
      "Requirement already satisfied: iniconfig in c:\\users\\lucas\\appdata\\local\\programs\\python\\python312\\lib\\site-packages (from pytest->krixik) (2.0.0)\n",
      "Requirement already satisfied: packaging in c:\\users\\lucas\\appdata\\roaming\\python\\python312\\site-packages (from pytest->krixik) (23.2)\n",
      "Requirement already satisfied: pluggy<2.0,>=0.12 in c:\\users\\lucas\\appdata\\local\\programs\\python\\python312\\lib\\site-packages (from pytest->krixik) (1.3.0)\n",
      "Requirement already satisfied: colorama in c:\\users\\lucas\\appdata\\roaming\\python\\python312\\site-packages (from pytest->krixik) (0.4.6)\n",
      "Requirement already satisfied: attrs>=19.2.0 in c:\\users\\lucas\\appdata\\local\\programs\\python\\python312\\lib\\site-packages (from pytest-subtests->krixik) (23.2.0)\n",
      "Requirement already satisfied: lxml>=3.1.0 in c:\\users\\lucas\\appdata\\local\\programs\\python\\python312\\lib\\site-packages (from python-docx->krixik) (4.9.3)\n",
      "Requirement already satisfied: typing-extensions in c:\\users\\lucas\\appdata\\local\\programs\\python\\python312\\lib\\site-packages (from python-docx->krixik) (4.8.0)\n",
      "Requirement already satisfied: XlsxWriter>=0.5.7 in c:\\users\\lucas\\appdata\\local\\programs\\python\\python312\\lib\\site-packages (from python-pptx->krixik) (3.1.9)\n",
      "Requirement already satisfied: charset-normalizer<4,>=2 in c:\\users\\lucas\\appdata\\local\\programs\\python\\python312\\lib\\site-packages (from requests->krixik) (3.3.1)\n",
      "Requirement already satisfied: idna<4,>=2.5 in c:\\users\\lucas\\appdata\\local\\programs\\python\\python312\\lib\\site-packages (from requests->krixik) (3.4)\n",
      "Requirement already satisfied: urllib3<3,>=1.21.1 in c:\\users\\lucas\\appdata\\local\\programs\\python\\python312\\lib\\site-packages (from requests->krixik) (2.0.7)\n",
      "Requirement already satisfied: certifi>=2017.4.17 in c:\\users\\lucas\\appdata\\local\\programs\\python\\python312\\lib\\site-packages (from requests->krixik) (2023.7.22)\n",
      "Requirement already satisfied: python-dateutil<3.0.0,>=2.1 in c:\\users\\lucas\\appdata\\roaming\\python\\python312\\site-packages (from botocore<1.35.0,>=1.34.39->boto3->krixik) (2.8.2)\n",
      "Requirement already satisfied: six>=1.5 in c:\\users\\lucas\\appdata\\roaming\\python\\python312\\site-packages (from python-dateutil<3.0.0,>=2.1->botocore<1.35.0,>=1.34.39->boto3->krixik) (1.16.0)\n"
     ]
    }
   ],
   "source": [
    "pip install krixik"
   ]
  },
  {
   "cell_type": "code",
   "execution_count": 2,
   "metadata": {},
   "outputs": [
    {
     "name": "stdout",
     "output_type": "stream",
     "text": [
      "SUCCESS: You are now authenticated.\n"
     ]
    }
   ],
   "source": [
    "import sys \n",
    "sys.path.append('..')\n",
    "from dotenv import load_dotenv\n",
    "import os\n",
    "load_dotenv()\n",
    "\n",
    "LUCAS_STAGING_API_KEY=os.getenv('LUCAS_STAGING_API_KEY')\n",
    "LUCAS_STAGING_API_URL=os.getenv('LUCAS_STAGING_API_URL')\n",
    "\n",
    "# import Krixik\n",
    "from krixik import krixik\n",
    "krixik.init(api_key = LUCAS_STAGING_API_KEY, \n",
    "            api_url = LUCAS_STAGING_API_URL)\n",
    "\n",
    "import json\n",
    "def json_print(data):\n",
    "    print(json.dumps(data, indent=2))\n",
    "\n",
    "%load_ext autoreload\n",
    "%autoreload 2 "
   ]
  },
  {
   "cell_type": "markdown",
   "metadata": {},
   "source": [
    "---"
   ]
  },
  {
   "cell_type": "markdown",
   "metadata": {},
   "source": [
    "---"
   ]
  },
  {
   "cell_type": "markdown",
   "metadata": {},
   "source": [
    "---"
   ]
  },
  {
   "cell_type": "markdown",
   "metadata": {},
   "source": [
    "# Three Types of Keyword Search\n",
    "\n",
    "What is Keyword Search?\n",
    "\n",
    "ChatGPT 3.5 defines it thus: \"*Keyword search works by entering words or phrases into a search engine, which then scans its index or database for relevant content containing those keywords.*\"\n",
    "\n",
    "Accurate enough. In other words, to break it down:\n",
    "\n",
    "- A keyword index is generated from an input file. For every keyword that appears at least once in the document, the index lists it and notes the line number in which it appears.\n",
    "- A query is input by the user. The query is broken down into keywords.\n",
    "- For every keyword in the query, if the keyword is in the index at least once, it returns to the user the keyword in question and every line number it appears on in the original document.\n",
    "- If every keyword in the query is in the document, then the final output of the keyword search is each query keyword individually listed with all the line numbers it appears on in the document.\n",
    "\n",
    "[What is a keyword? A keyword is every word that is not a [\"stop word\"](https://krixik-docs.readthedocs.io/en/latest/system/search_methods/keyword_search_method/#stop-words). Stop words are words so common that keyword search algorithms ignore them.]\n",
    "\n",
    "### Three Types of Keyword Search\n",
    "\n",
    "We've all used keyword search before; it's the \"basic\" search function. A user has a word or phrase in mind, types it into a search bar on a website (e.g. Wikipedia), and the results returned all include the words searched for, likely ranked in some order.\n",
    "\n",
    "In this article we'll look at three different ways to think of and build keyword search. This is by no means an exhaustive list; our intention is to highlight that, even with something as common and often-used as keyword search, developers with the right tools can always build something better or more accurate for their particular use case.\n",
    "\n",
    "They are the following:\n",
    "\n",
    "- Single-word keyword search (a.k.a. vanilla keyword search)\n",
    "- Multi-word phrase search\n",
    "- Multi-word cluster search\n",
    "\n",
    "[Note that these are not standard labels, they just sound reasonable at this writing]\n",
    "\n",
    "Let's take a look at each one of these. Although they vary in level of complexity, they are all keyword search functions that we can build with [Krixik](https://krixik-docs.readthedocs.io/en/latest/). We'll show you how to do just that.\n",
    "\n",
    "### Single-Word Keyword Search\n",
    "\n",
    "This is the \"vanilla\" keyword search. After creating an index out of a document (which in Krixik is done by [processing](https://krixik-docs.readthedocs.io/en/latest/system/parameters_processing_files_through_pipelines/process_method/) a file through a keyword search [pipeline](https://krixik-docs.readthedocs.io/en/latest/system/pipeline_creation/components_of_a_krixik_pipeline/)), a query is fed and searched for.\n",
    "\n",
    "The search function then goes down the keyword index, checking for each of the queried words at every step of the way. Each time there's a match it returns to the user the word, the line number, and since we're using Krixik [keyword search](https://krixik-docs.readthedocs.io/en/latest/modules/database_modules/keyword-db_module/), the word number within the line. There is no ranking or sorting of any sort: the output is in document order, so a word that's printed on Line 1 of the document is returned before a word that's printed on Line 2.\n",
    "\n",
    "To show this in action, we'll first need to [create](https://krixik-docs.readthedocs.io/en/latest/system/pipeline_creation/create_pipeline/) a simple [single-module](https://krixik-docs.readthedocs.io/en/latest/examples/single_module_pipelines/single_keyword-db/) Krixik [keyword search](https://krixik-docs.readthedocs.io/en/latest/modules/database_modules/keyword-db_module/) pipeline. That's accomplished as follows:"
   ]
  },
  {
   "cell_type": "code",
   "execution_count": 3,
   "metadata": {},
   "outputs": [],
   "source": [
    "# instantiate a single-module pipeline with a keyword-db module\n",
    "pipeline_1 = krixik.create_pipeline(name='my_simple_keyword-db_pipeline',\n",
    "                                    module_chain=['keyword-db'])"
   ]
  },
  {
   "cell_type": "markdown",
   "metadata": {},
   "source": [
    "The pipeline is now instantiated. Let's process a file through it. We'll go with something meaty, like the [Project Gutenberg](https://gutenberg.org/) version of Jane Austen's [<u>Pride and Prejudice</u>](https://www.gutenberg.org/ebooks/1342):"
   ]
  },
  {
   "cell_type": "code",
   "execution_count": 4,
   "metadata": {},
   "outputs": [
    {
     "name": "stdout",
     "output_type": "stream",
     "text": [
      "INFO: hydrated input modules: {'module_1': {'model': 'sqlite', 'params': {}}}\n",
      "INFO: symbolic_directory_path was not set by user - setting to default of /etc\n",
      "INFO: file_name was not set by user - setting to random file name: krixik_generated_file_name_iljdbepopt.txt\n",
      "INFO: expire_time was not set by user - setting to default of 1800 seconds\n",
      "INFO: wait_for_process is set to True.\n",
      "INFO: file will expire and be removed from you account in 1800 seconds, at Sun Jun  9 22:15:26 2024 UTC\n",
      "INFO: my_simple_keyword-db_pipeline file process and input processing started...\n",
      "INFO: metadata can be updated using the .update api.\n",
      "INFO: This process's request_id is: 89b91968-78ca-b302-c27e-17657cce35e4\n",
      "INFO: File process and processing status:\n",
      "SUCCESS: module 1 (of 1) - module_1 processing complete.\n",
      "SUCCESS: pipeline process complete.\n",
      "SUCCESS: process output downloaded.\n"
     ]
    },
    {
     "data": {
      "text/plain": [
       "{'status_code': 200,\n",
       " 'pipeline': 'my_simple_keyword-db_pipeline',\n",
       " 'request_id': '47f8acf7-7985-476e-b414-acdacd1fe2f8',\n",
       " 'file_id': 'd4c5baf5-e4e1-441f-a1ea-b3a81baf3483',\n",
       " 'message': 'SUCCESS - output fetched for file_id d4c5baf5-e4e1-441f-a1ea-b3a81baf3483.Output saved to location(s) listed in process_output_files.',\n",
       " 'warnings': [],\n",
       " 'process_output': None,\n",
       " 'process_output_files': ['c:\\\\Users\\\\Lucas\\\\Desktop\\\\Content/d4c5baf5-e4e1-441f-a1ea-b3a81baf3483.db']}"
      ]
     },
     "execution_count": 4,
     "metadata": {},
     "output_type": "execute_result"
    }
   ],
   "source": [
    "# process Pride and Prejudice through the pipeline\n",
    "pipeline_1.process(local_file_path='./test_files/Pride_and_Prejudice.txt')"
   ]
  },
  {
   "cell_type": "markdown",
   "metadata": {},
   "source": [
    "Lastly, our query. We'll use a few words that are likely often present in a novel like this one:"
   ]
  },
  {
   "cell_type": "code",
   "execution_count": 5,
   "metadata": {},
   "outputs": [
    {
     "data": {
      "text/plain": [
       "{'status_code': 500,\n",
       " 'request_id': '6b2b8b35-347e-44e1-83c1-2b16aea71550',\n",
       " 'message': 'FAILURE: Error querying user files',\n",
       " 'warnings': [],\n",
       " 'items': []}"
      ]
     },
     "execution_count": 5,
     "metadata": {},
     "output_type": "execute_result"
    }
   ],
   "source": [
    "# run a vanilla keyword search query on the novel we've just processed through the pipeline\n",
    "\n",
    "pipeline_1.keyword_search(query='woman stared gentleman wealthy landscape sadness romance heart scoundrel',\n",
    "                          symbolic_directory_paths=['/*'])"
   ]
  },
  {
   "cell_type": "markdown",
   "metadata": {},
   "source": [
    "Vanilla keyword search works as described: our output is our queried words listed in order of a appearance (with as many repetitions as is applicable for this file)."
   ]
  },
  {
   "cell_type": "markdown",
   "metadata": {},
   "source": [
    "### Multi-Word Phrase Search\n",
    "\n",
    "What if you only want words when they appear together in a certain order? For instance, you may wish to search for \"the horse grazed on the green pasture\", but not want individual instances of \"horse\", \"grazed\", \"green\", or \"pasture\". You only want instances where that specific combination of words appears.\n",
    "\n",
    "You can also build this version of keyword search with [Krixik](https://krixik-docs.readthedocs.io/en/latest/), but it'll take more than a single-module pipeline. You'll need to leverage the output of basic keyword search—which importantly includes line numbers *and line numbers*, and add in a couple of extra steps in order to put it together.\n",
    "\n",
    "We begin by ###Need Jeremy's Help Here. Section probably calls for a couple different code cells and short explanatory markdown cells###"
   ]
  },
  {
   "cell_type": "code",
   "execution_count": null,
   "metadata": {},
   "outputs": [],
   "source": [
    "# First of probably a few different code cells laying out how to accomplish the above."
   ]
  },
  {
   "cell_type": "markdown",
   "metadata": {},
   "source": [
    "As expected, our output is a listing of only the line numbers in which our queried-for phrase shows up exactly as input, ranked in order of appearance. In this case, that phrase is only present ###once/twice/thrice###."
   ]
  },
  {
   "cell_type": "markdown",
   "metadata": {},
   "source": [
    "### Multi-Word Cluster Search\n",
    "\n",
    "\"Multi-Word Density Search\" is what you would use if you wanted to find *clusters* of words. In other words, you have a set of words to search for, and you want to know where several of those words are grouped together in a single line or a separate line.\n",
    "\n",
    "As opposed to the two previous types of keyword search, where results are presented in order of appearance, our results here should be ranked by cluster size. In other words, if I search for 20 different words, then output should first show any clusters in which there are e.g. 20 words, then 19, etc. The numbers wouldn't work quite like this, given that you must allow for word repetition, but that's the general idea.\n",
    "\n",
    "You might also wish to add an additional argument, `window_size`. With it you could determine how many words or lines you are allowing for the clusters to form in. So if there's a 15-word cluster that's spread across 60 words and your `window_size` is 80, that would be returned just fine, but if it were the same scenario with a `window_size` of 40, then that cluster would not be returned as a single cluster, given that the 15 keywords are never within 40 total words of each other.\n",
    "\n",
    "Let's take a look at how we would build this with [Krixik](https://krixik-docs.readthedocs.io/en/latest/)—as a hint, you would, as before, also need to leverage line and word numbers. \n",
    "\n",
    "First you ###Jeremy help here please###"
   ]
  },
  {
   "cell_type": "code",
   "execution_count": null,
   "metadata": {},
   "outputs": [],
   "source": [
    "# First of probably a few different code cells laying out how to accomplish the above."
   ]
  },
  {
   "cell_type": "markdown",
   "metadata": {},
   "source": [
    "The queried-for keywords have been returned as we had hoped, with the biggest, densest clusters at the top of our output."
   ]
  },
  {
   "cell_type": "markdown",
   "metadata": {},
   "source": [
    "### Conclusion\n",
    "\n",
    "The above are three different ways to think about keyword search and to build with the basic keyword search algorithim—in this case, with [Krixik](https://krixik-docs.readthedocs.io/en/latest/) [keyword search](https://krixik-docs.readthedocs.io/en/latest/modules/database_modules/keyword-db_module/) [pipelines](https://krixik-docs.readthedocs.io/en/latest/system/pipeline_creation/components_of_a_krixik_pipeline/).\n",
    "\n",
    "Do any of these work for what you seek to accomplish? Could you further build towards what you need, either further developing one of the above or building in another direction altogether?\n",
    "\n",
    "Even with other more evolved search methods arising, keyword search will continue to be a valuable tool in developer arsenals. So think creatively about what you could accomplish with it... the ideas in this article are only an appetizer."
   ]
  }
 ],
 "metadata": {
  "kernelspec": {
   "display_name": "Python 3",
   "language": "python",
   "name": "python3"
  },
  "language_info": {
   "codemirror_mode": {
    "name": "ipython",
    "version": 3
   },
   "file_extension": ".py",
   "mimetype": "text/x-python",
   "name": "python",
   "nbconvert_exporter": "python",
   "pygments_lexer": "ipython3",
   "version": "3.12.0"
  }
 },
 "nbformat": 4,
 "nbformat_minor": 2
}
