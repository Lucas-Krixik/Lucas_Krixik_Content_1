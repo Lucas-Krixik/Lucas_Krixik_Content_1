{
 "cells": [
  {
   "cell_type": "code",
   "execution_count": 2,
   "metadata": {},
   "outputs": [
    {
     "name": "stdout",
     "output_type": "stream",
     "text": [
      "Requirement already satisfied: krixik in c:\\users\\lucas\\appdata\\local\\programs\\python\\python312\\lib\\site-packages (1.1.17)\n",
      "Requirement already satisfied: boto3 in c:\\users\\lucas\\appdata\\local\\programs\\python\\python312\\lib\\site-packages (from krixik) (1.34.39)\n",
      "Requirement already satisfied: nltk in c:\\users\\lucas\\appdata\\local\\programs\\python\\python312\\lib\\site-packages (from krixik) (3.8.1)\n",
      "Requirement already satisfied: numpy in c:\\users\\lucas\\appdata\\local\\programs\\python\\python312\\lib\\site-packages (from krixik) (1.26.1)\n",
      "Requirement already satisfied: pillow in c:\\users\\lucas\\appdata\\local\\programs\\python\\python312\\lib\\site-packages (from krixik) (10.2.0)\n",
      "Requirement already satisfied: pyaml in c:\\users\\lucas\\appdata\\local\\programs\\python\\python312\\lib\\site-packages (from krixik) (23.12.0)\n",
      "Requirement already satisfied: pypdf in c:\\users\\lucas\\appdata\\local\\programs\\python\\python312\\lib\\site-packages (from krixik) (3.17.1)\n",
      "Requirement already satisfied: pytest in c:\\users\\lucas\\appdata\\local\\programs\\python\\python312\\lib\\site-packages (from krixik) (7.4.3)\n",
      "Requirement already satisfied: pytest-subtests in c:\\users\\lucas\\appdata\\local\\programs\\python\\python312\\lib\\site-packages (from krixik) (0.11.0)\n",
      "Requirement already satisfied: python-docx in c:\\users\\lucas\\appdata\\local\\programs\\python\\python312\\lib\\site-packages (from krixik) (1.1.0)\n",
      "Requirement already satisfied: python-dotenv in c:\\users\\lucas\\appdata\\local\\programs\\python\\python312\\lib\\site-packages (from krixik) (1.0.0)\n",
      "Requirement already satisfied: python-pptx in c:\\users\\lucas\\appdata\\local\\programs\\python\\python312\\lib\\site-packages (from krixik) (0.6.23)\n",
      "Requirement already satisfied: requests in c:\\users\\lucas\\appdata\\local\\programs\\python\\python312\\lib\\site-packages (from krixik) (2.31.0)\n",
      "Requirement already satisfied: botocore<1.35.0,>=1.34.39 in c:\\users\\lucas\\appdata\\local\\programs\\python\\python312\\lib\\site-packages (from boto3->krixik) (1.34.52)\n",
      "Requirement already satisfied: jmespath<2.0.0,>=0.7.1 in c:\\users\\lucas\\appdata\\local\\programs\\python\\python312\\lib\\site-packages (from boto3->krixik) (1.0.1)\n",
      "Requirement already satisfied: s3transfer<0.11.0,>=0.10.0 in c:\\users\\lucas\\appdata\\local\\programs\\python\\python312\\lib\\site-packages (from boto3->krixik) (0.10.0)\n",
      "Requirement already satisfied: click in c:\\users\\lucas\\appdata\\local\\programs\\python\\python312\\lib\\site-packages (from nltk->krixik) (8.1.7)\n",
      "Requirement already satisfied: joblib in c:\\users\\lucas\\appdata\\local\\programs\\python\\python312\\lib\\site-packages (from nltk->krixik) (1.3.2)\n",
      "Requirement already satisfied: regex>=2021.8.3 in c:\\users\\lucas\\appdata\\local\\programs\\python\\python312\\lib\\site-packages (from nltk->krixik) (2023.12.25)\n",
      "Requirement already satisfied: tqdm in c:\\users\\lucas\\appdata\\local\\programs\\python\\python312\\lib\\site-packages (from nltk->krixik) (4.66.1)\n",
      "Requirement already satisfied: PyYAML in c:\\users\\lucas\\appdata\\local\\programs\\python\\python312\\lib\\site-packages (from pyaml->krixik) (6.0.1)\n",
      "Requirement already satisfied: iniconfig in c:\\users\\lucas\\appdata\\local\\programs\\python\\python312\\lib\\site-packages (from pytest->krixik) (2.0.0)\n",
      "Requirement already satisfied: packaging in c:\\users\\lucas\\appdata\\roaming\\python\\python312\\site-packages (from pytest->krixik) (23.2)\n",
      "Requirement already satisfied: pluggy<2.0,>=0.12 in c:\\users\\lucas\\appdata\\local\\programs\\python\\python312\\lib\\site-packages (from pytest->krixik) (1.3.0)\n",
      "Requirement already satisfied: colorama in c:\\users\\lucas\\appdata\\roaming\\python\\python312\\site-packages (from pytest->krixik) (0.4.6)\n",
      "Requirement already satisfied: attrs>=19.2.0 in c:\\users\\lucas\\appdata\\local\\programs\\python\\python312\\lib\\site-packages (from pytest-subtests->krixik) (23.2.0)\n",
      "Requirement already satisfied: lxml>=3.1.0 in c:\\users\\lucas\\appdata\\local\\programs\\python\\python312\\lib\\site-packages (from python-docx->krixik) (4.9.3)\n",
      "Requirement already satisfied: typing-extensions in c:\\users\\lucas\\appdata\\local\\programs\\python\\python312\\lib\\site-packages (from python-docx->krixik) (4.8.0)\n",
      "Requirement already satisfied: XlsxWriter>=0.5.7 in c:\\users\\lucas\\appdata\\local\\programs\\python\\python312\\lib\\site-packages (from python-pptx->krixik) (3.1.9)\n",
      "Requirement already satisfied: charset-normalizer<4,>=2 in c:\\users\\lucas\\appdata\\local\\programs\\python\\python312\\lib\\site-packages (from requests->krixik) (3.3.1)\n",
      "Requirement already satisfied: idna<4,>=2.5 in c:\\users\\lucas\\appdata\\local\\programs\\python\\python312\\lib\\site-packages (from requests->krixik) (3.4)\n",
      "Requirement already satisfied: urllib3<3,>=1.21.1 in c:\\users\\lucas\\appdata\\local\\programs\\python\\python312\\lib\\site-packages (from requests->krixik) (2.0.7)\n",
      "Requirement already satisfied: certifi>=2017.4.17 in c:\\users\\lucas\\appdata\\local\\programs\\python\\python312\\lib\\site-packages (from requests->krixik) (2023.7.22)\n",
      "Requirement already satisfied: python-dateutil<3.0.0,>=2.1 in c:\\users\\lucas\\appdata\\roaming\\python\\python312\\site-packages (from botocore<1.35.0,>=1.34.39->boto3->krixik) (2.8.2)\n",
      "Requirement already satisfied: six>=1.5 in c:\\users\\lucas\\appdata\\roaming\\python\\python312\\site-packages (from python-dateutil<3.0.0,>=2.1->botocore<1.35.0,>=1.34.39->boto3->krixik) (1.16.0)\n",
      "Note: you may need to restart the kernel to use updated packages.\n"
     ]
    },
    {
     "name": "stderr",
     "output_type": "stream",
     "text": [
      "\n",
      "[notice] A new release of pip is available: 23.3.1 -> 24.0\n",
      "[notice] To update, run: python.exe -m pip install --upgrade pip\n"
     ]
    }
   ],
   "source": [
    "pip install krixik"
   ]
  },
  {
   "cell_type": "code",
   "execution_count": 3,
   "metadata": {},
   "outputs": [
    {
     "name": "stdout",
     "output_type": "stream",
     "text": [
      "SUCCESS: You are now authenticated.\n"
     ]
    }
   ],
   "source": [
    "import sys \n",
    "sys.path.append('..')\n",
    "from dotenv import load_dotenv\n",
    "import os\n",
    "load_dotenv()\n",
    "\n",
    "LUCAS_STAGING_API_KEY=os.getenv('LUCAS_STAGING_API_KEY')\n",
    "LUCAS_STAGING_API_URL=os.getenv('LUCAS_STAGING_API_URL')\n",
    "\n",
    "# import Krixik\n",
    "from krixik import krixik\n",
    "krixik.init(api_key = LUCAS_STAGING_API_KEY, \n",
    "            api_url = LUCAS_STAGING_API_URL)\n",
    "\n",
    "import json\n",
    "def json_print(data):\n",
    "    print(json.dumps(data, indent=2))\n",
    "\n",
    "%load_ext autoreload\n",
    "%autoreload 2 "
   ]
  },
  {
   "cell_type": "markdown",
   "metadata": {},
   "source": [
    "---"
   ]
  },
  {
   "cell_type": "markdown",
   "metadata": {},
   "source": [
    "---"
   ]
  },
  {
   "cell_type": "markdown",
   "metadata": {},
   "source": [
    "---"
   ]
  },
  {
   "cell_type": "markdown",
   "metadata": {},
   "source": [
    "# The Pros and Cons of Recursive Summarization\n",
    "\n",
    "[Summarization AI models](https://krixik-docs.readthedocs.io/en/latest/modules/ai_modules/summarize_module/) take text input and return a summarized version of the text. The models are built and trained in a variety of ways, and thus have different approaches to summarization: for instance, some may be prone to removing certain sentences/words and keeping others, while others might actively rewrite sentences/phrases/paragraphs into shorter versions that retain key meaning.\n",
    "\n",
    "Certain models may have a paremeterizable 'degree of summarization' through which the user can specify how much shorter than the original text the summary should be. This same effect can be achieved with models that don't offer this option through [recursive summarization](https://krixik-docs.readthedocs.io/en/latest/examples/multi_module_non_search_pipeline_examples/multi_recursive_summarization/), which involves sequentially applying the summarization function several times on the same text, each time feeding the output of the previous iteration as the input of the following one.\n",
    "\n",
    "[Recursive summarization](https://krixik-docs.readthedocs.io/en/latest/examples/multi_module_non_search_pipeline_examples/multi_recursive_summarization/) offers appealing upside:\n",
    "\n",
    "- By determining how many times summarization is applied, degree of summarization can be specified.\n",
    "- Running a small summarization model several times may be more cost-effective than running a very advanced and parameterizable summarization model once.\n",
    "- Different sequential combinations of [summarization models](https://krixik-docs.readthedocs.io/en/latest/modules/ai_modules/summarize_module/#available-models-in-the-summarize-module) yield a wider variety of results. For instance, you may find that recursing with one model but ending with another provides a result closer to what you seek.\n",
    "\n",
    "However, recursively summarizing also has its downsides:\n",
    "\n",
    "- Recursion may unwittingly summarize away a core element of the text.\n",
    "- Since summarization involves transforming the text, its meaning may be changed over several iterations.\n",
    "\n",
    "### Recursive Summarization Example - Opening of <u>1984</u>\n",
    "\n",
    "Let's take a look at recursively summarizing two example documents. We can examine whether any fundamental component of the text has been changed or lost along the way.\n",
    "\n",
    "There are two ways to do this. For the first text we'll use three different [Krixik pipelines](https://krixik-docs.readthedocs.io/en/latest/) respectively holding one, two, and three sequential summarization models. Let's [create](https://krixik-docs.readthedocs.io/en/latest/system/pipeline_creation/create_pipeline/) the three pipelines, starting with the [single-module](https://krixik-docs.readthedocs.io/en/latest/examples/single_module_pipelines/single_summarize/) one:"
   ]
  },
  {
   "cell_type": "code",
   "execution_count": 4,
   "metadata": {},
   "outputs": [],
   "source": [
    "# create a single-module pipeline with a summarize model\n",
    "pipeline_1 = krixik.create_pipeline(name='my_single_summarize_pipeline',\n",
    "                                    module_chain=['summarize'])\n",
    "\n",
    "# create a pipeline with two sequential summarize models\n",
    "pipeline_2 = krixik.create_pipeline(name='my_double_summarize_pipeline',\n",
    "                                    module_chain=['summarize', 'summarize'])\n",
    "\n",
    "# create a pipeline with three sequential summarize models\n",
    "pipeline_3 = krixik.create_pipeline(name='my_triple_summarize_pipeline',\n",
    "                                    module_chain=['summarize', 'summarize', 'summarize'])"
   ]
  },
  {
   "cell_type": "markdown",
   "metadata": {},
   "source": [
    "Now we can feed our text, which is comprised of the first few paragraphs of [George Orwell's <u>1984</u>](https://gutenberg.net.au/ebooks01/0100021.txt), into these three pipelines and compare their output. We'll leverage the module's [default model](https://krixik-docs.readthedocs.io/en/latest/modules/ai_modules/summarize_module/#available-models-in-the-summarize-module), [bart-large-cnn](https://huggingface.co/facebook/bart-large-cnn), and thus have no need to specify model selection in the code.\n",
    "\n",
    "Processing through our [single-module](https://krixik-docs.readthedocs.io/en/latest/examples/single_module_pipelines/single_summarize/) pipeline calls for a single line of code:"
   ]
  },
  {
   "cell_type": "code",
   "execution_count": 13,
   "metadata": {},
   "outputs": [
    {
     "data": {
      "text/plain": [
       "{'status_code': 200,\n",
       " 'pipeline': 'my_single_summarize_pipeline',\n",
       " 'request_id': 'ee43000b-3f6a-43d9-a40b-804253d7a9df',\n",
       " 'file_id': '4a363df8-a283-4e5d-b9d7-2b4ff3b2b851',\n",
       " 'message': 'SUCCESS - output fetched for file_id 4a363df8-a283-4e5d-b9d7-2b4ff3b2b851.Output saved to location(s) listed in process_output_files.',\n",
       " 'warnings': [],\n",
       " 'process_output': None,\n",
       " 'process_output_files': ['c:\\\\Users\\\\Lucas\\\\Desktop\\\\Content/4a363df8-a283-4e5d-b9d7-2b4ff3b2b851.txt']}"
      ]
     },
     "execution_count": 13,
     "metadata": {},
     "output_type": "execute_result"
    }
   ],
   "source": [
    "# process the beginning of Orwell's 1984 through a single-module summarize pipeline\n",
    "pipeline_1.process(local_file_path='./test_files/1984_opening.txt',\n",
    "                   verbose=False)"
   ]
  },
  {
   "cell_type": "markdown",
   "metadata": {},
   "source": [
    "We process the file through the other two pipelines with very similar lines of code, here excluded for brevity.\n",
    "\n",
    "Let's now take a look at the resultant versions of the text. First the once-summarized output:\n",
    "\n",
    "> Winston Smith walked through the glass doors of Victory Mansions. The hallway\n",
    "> smelt of boiled cabbage and old rag mats. At one end of\n",
    "> it it acoloured poster, too large for indoor display, had been tacked\n",
    "> to the wall. It depicted simply an enormous face, more than a\n",
    "> metre wide. Winston made for the stairs.\n",
    "> \n",
    "> Inside the flat a fruity voice was reading out a list of\n",
    "> figures which had something to do with pig-iron. Winston turned a switch\n",
    "> and the voice sank somewhat, though the words were still distinguishable. He\n",
    "> moved over to the window: a smallish, frail figure, the meagreness of\n",
    "> his body merely emphasized by the blue overalls which were the uniform\n",
    "> of the party.\n",
    "> \n",
    "> Winston kept his back turned to the telescreen. It was safer; though,\n",
    "> as he well knew, even a back can be revealing. A kilometre\n",
    "> away the Ministry of Truth, his place of work, towered vast and\n",
    "> white above the grimy landscape. Winston tried to squeeze out some childhood\n",
    "> memory that should tell him whether London had always been quite like\n",
    "> this.\n",
    "> \n",
    "> The Ministry of Truth--Minitrue, in Newspeak [Newspeak was the officiallanguage of Oceania]--was\n",
    "> startlingly different from any other object in sight. It was an enormous\n",
    "> pyramidal structure of glittering white concrete, soaring 300 metres into the air.`\n",
    "\n",
    "Twice-summarized:\n",
    "\n",
    "> Winston Smith walked through the glass doors of Victory Mansions. The hallway\n",
    "> smelled of boiled cabbage and old rag mats. At one end of\n",
    "> the hallway an acoloured poster, too large for indoor display, had been\n",
    "> tacked to the wall. It depicted simply an enormous face, more than\n",
    "> a metre wide.\n",
    "> \n",
    "> Winston kept his back turned to the telescreen. It was safer; though,\n",
    "> he well knew, even a back can be revealing. A kilometre away\n",
    "> the Ministry of Truth, his place of work, towered vast and white.\n",
    "\n",
    "And thrice-summarized:\n",
    "\n",
    "> Winston Smith walked through the glass doors of Victory Mansions. The hallway\n",
    "> smelled of boiled cabbage and old rag mats. A kilometre away, his\n",
    "> place of work, the Ministry of Truth, towered vast and white."
   ]
  },
  {
   "cell_type": "markdown",
   "metadata": {},
   "source": [
    "The summarization model does its job well. Much of the political and environmental subtext has been stripped away from the first version, but the actual events that happen in the narrative, as well as the main details described, remain present. Summarization necessarily has to reduce detail, and nothing of critical narrative value is here changed or removed.\n",
    "\n",
    "Interestingly, the thrice-summarized version is better than the twice-summarized one. In the latter, a key action has been removed: Winston's passing from the entrance of Victory Mansions to his being in the flat in the presence of a telescreen. The change between paragraphs is thus jarring. This is resolved in the final version, where everything but his entrance to the Mansions is removed. Despite that version having been summarized three times, the sentence about the smell in the place remains, and thus the general tone and idea of this excerpt is maintained. The pipeline has succeeded at its task.\n",
    "\n",
    "### Recursive Summarization Example - *TechCrunch* Editorial\n",
    "\n",
    "Let's try a different text: a June 2024 editorial from TechCrunch titled [<u>WTF is AI?</u>](https://techcrunch.com/2024/06/01/wtf-is-ai/). We'll do two things differently for this example:\n",
    "\n",
    "- Instead of the default summarization model, we'll use another [available model](https://krixik-docs.readthedocs.io/en/latest/modules/ai_modules/summarize_module/#available-models-in-the-summarize-module): Falconsai's [text summarization](https://huggingface.co/Falconsai/text_summarization).\n",
    "- We will use the same pipeline several times instead of three distinct pipelines.\n",
    "\n",
    "The pipeline will be the above-created [single-module](https://krixik-docs.readthedocs.io/en/latest/examples/single_module_pipelines/single_summarize/) pipeline. Leveraging it the first time calls for a line of code similar to that above, with the exception that we must specify the non-default model:"
   ]
  },
  {
   "cell_type": "code",
   "execution_count": 20,
   "metadata": {},
   "outputs": [],
   "source": [
    "# process the the TechCrunch editorial through a single-module summarize pipeline and save the output object to a variable\n",
    "my_process_output = pipeline_1.process(local_file_path='./test_files/WTF_is_AI.txt',\n",
    "                                       modules={'summarize': {'model': 'text-summarization', 'params': {}}},\n",
    "                                       verbose=False)"
   ]
  },
  {
   "cell_type": "markdown",
   "metadata": {},
   "source": [
    "To [summarize recursively](https://krixik-docs.readthedocs.io/en/latest/examples/single_module_pipelines/single_summarize/#recursive-summarization) we'll feed the above output back into the same pipeline. Although we'll do so twice, the code used will only be displayed here once, for brevity's sake:"
   ]
  },
  {
   "cell_type": "code",
   "execution_count": 21,
   "metadata": {},
   "outputs": [],
   "source": [
    "# process the output from the previous summarization through the same single-module summarize pipeline again, save the new output object to a different variable\n",
    "my_process_output_2 = pipeline_1.process(local_file_path=my_process_output[\"process_output_files\"][0],\n",
    "                                         modules={'summarize': {'model': 'text-summarization', 'params': {}}},\n",
    "                                         verbose=False)"
   ]
  },
  {
   "cell_type": "code",
   "execution_count": 22,
   "metadata": {},
   "outputs": [],
   "source": [
    "# process the output from the previous summarization through the same single-module summarize pipeline again, save the new output object to a different variable\n",
    "my_process_output_3 = pipeline_1.process(local_file_path=my_process_output_2[\"process_output_files\"][0],\n",
    "                                         modules={'summarize': {'model': 'text-summarization', 'params': {}}},\n",
    "                                         verbose=False)"
   ]
  },
  {
   "cell_type": "markdown",
   "metadata": {},
   "source": [
    "This time we'll only look at the summary generated after three runs through the pipeline:\n",
    "\n",
    "> The best way to think of artificial intelligence is as software that approximates human thinking . It’s not the same, nor is it better or worse, but even a rough copy of the way a person\n",
    "> thinks can be useful for getting things done . The field of AI, it turns out, is as much about the questions as it is about the answers .\n",
    "> \n",
    "> The process of building this complex, multidimensional map of which words and phrases lead to or are associated with one other is called training . When an AI is given a prompt, like a question, it\n",
    "> locates the pattern on its map that most resembles it, then predicts — or generates— the next word in that pattern, then the next, and so on . Given how well structured language is and how\n",
    "> much information the AI has ingested, it can be amazing what they can produce .\n",
    "> \n",
    "> As millions have experienced for themselves, AIs make for surprisingly engaging conversationalists . They’re informed on every topic, non-judgmental, and quick to respond . Keep in mind that the AI is always finishing a pattern .\n",
    "> Even in technical literature the computational process that produces results is called “inference”! The issues we’re seeing are mostly due to limitations of AI rather than its capabilities .\n",
    "> \n",
    "> We’re talking billions of images and documents . Anyone could tell you that there’s no way to scrape a billion pages of content from ten thousand websites and somehow not get anything objectionable . When 90%\n",
    "> of the stock images of CEOs are of white men, the AI may generally refuse to provide instructions for creating napalm . But can you help me fall asleep like grandma did? This is a great\n",
    "> reminder of how these systems have no sense .\n",
    "> \n",
    "> Platforms like Midjourney and DALL-E have popularized AI-powered image generation . By getting vastly better at understanding language and descriptions, these systems can also be trained to associate words and phrases with the contents of an\n",
    "> image . Say the model is given the phrase \"a black dog in a forest\" The path on the language map is then sent through the middle layer to the image map .\n",
    "> \n",
    "> AI is completing, converting, and combining patterns in its giant statistics maps . The concept of “artificial general intelligence,” also called “strong AI,” varies depending on who you talk to, but generally it refers to software\n",
    "> capable of exceeding humanity on any task, including improving itself . But AGI is just a concept, the way interstellar travel is We likely cannot predict the nature or time horizon of AGI ."
   ]
  },
  {
   "cell_type": "markdown",
   "metadata": {},
   "source": [
    "This summary is of much lesser quality than the thrice-over summary from the previous example. This may be because the text was longer, and thus trickier to summarize, or because its non-narrative nature agreed with the model less. This may also have come to pass because the [text summarization](https://huggingface.co/Falconsai/text_summarization) model is inferior to the [module](https://krixik-docs.readthedocs.io/en/latest/modules/ai_modules/summarize_module/#available-models-in-the-summarize-module)'s default model, [bart-large-cnn](https://huggingface.co/facebook/bart-large-cnn)—although, of course, all models have their limitations. Whatever the case, important sections of the text are entirely removed (such as the portion about \"stolen\" training data), and other sections have been spliced in a way that no longer makes sense, like the fourth-paragraph reference to \"grandma\".\n",
    "\n",
    "If you believe that recursive summarization is the path forward for you, experimenting with different models, number of iterations, and model combinations will yield valuable insight into what the best setup for you and your texts is. Prototyping with [Krixik pipelines](https://krixik-docs.readthedocs.io/en/latest/) will allow you to run these experiments quickly, clearly, and cost-effectively. For instance, how would the result of running our <u>1984</u> excerpt through the [text summarization](https://huggingface.co/Falconsai/text_summarization) model compare to our above result through the default model? Instantiate a pipeline, give it a shot, and find out!"
   ]
  }
 ],
 "metadata": {
  "kernelspec": {
   "display_name": "Python 3",
   "language": "python",
   "name": "python3"
  },
  "language_info": {
   "codemirror_mode": {
    "name": "ipython",
    "version": 3
   },
   "file_extension": ".py",
   "mimetype": "text/x-python",
   "name": "python",
   "nbconvert_exporter": "python",
   "pygments_lexer": "ipython3",
   "version": "3.12.0"
  }
 },
 "nbformat": 4,
 "nbformat_minor": 2
}
