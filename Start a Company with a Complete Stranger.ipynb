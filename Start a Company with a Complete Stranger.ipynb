{
 "cells": [
  {
   "cell_type": "markdown",
   "metadata": {},
   "source": [
    "# Start a Company with a Complete Stranger\n",
    "\n",
    "Don't start a company by yourself. You almost certainly don't have all the skills and experience necessary for everything a fledgling company calls for. You only have 24 hours per day if you're a team of 1. And when the going invariably gets rough—intellectually, physically, emotionally, financially, motivationally—you'll wish you had a partner by your side.\n",
    "\n",
    "So whom do you invite to be your co-founder? Your first instinct might be to seek out somebody you know. A former/current colleague, a friend, a relative. You already have a relationship, perhaps a years- or even decades-long one, so why not evolve that into a business relationship as well?\n",
    "\n",
    "Working with friends and family carries enormous risk. A great many successful companies have been begun by friends and/or family, but how many have failed? Most of them, as it turns out, and the consequences can be disastrous. An irreparably damaged friendship, or even worse, an irreparably damaged family fabric.\n",
    "\n",
    "Why do these attempts fail so often? A couple of reasons come to mind. In no particular order:\n",
    "\n",
    "- You never really know a person until (a) they have power over you or (b) money/ego are on the table. You may find that there was an entire dark side to the friend or relative you partnered with that you had no idea existed—a dark side potentially involving greed, dishonor, dishonesty, a tendency to despotism, etc.—and things become rocky after a while, perhaps irreversibly.\n",
    "- Difficult conversations are much harder. Disagreements and moment of tension are inescapable in a business relationship, and it may be difficult for you to have a tough talk with a close cousin or old pal. Maybe the message isn't properly delivered, or maybe it's overdelivered and the fabric of the relationship is damaged (e.g. \"I can't believe he talked to me that way!\"). When the relationship is already intimate, it's very difficult to separate business from personal.\n",
    "- They may simply not be that good as co-founders. More than anything else, you chose this person because you know them. You don't have a focused, unbiased read on their competence, skillset, or experience. So you might find, after a few months, after things begin rolling, that they're not the business partner you hoped for.\n",
    "\n",
    "[Note that this article is written for two co-founders, but it applies to groups of three people, four people, etc.]\n",
    "\n",
    "Also keep in mind that complications arise in both directions. There's no \"good guy\" in these scenarios. Maybe your relative feels that you're greedy or incompetent. Maybe your high-school-era friend is tired of you crying every time she gives you feedback. \"We're all the hero of our own story\", but so's your co-founder. Evaluate yourself constantly, and be honest when doing so.\n",
    "\n",
    "Starting a company with a colleague is subject to milder versions of the risks above; the baggage of the preexisting relationship is much lighter. Moreover, if this is a person you worked with closely in a small team and the relationship was always (mostly) about work, odds of a successful working relationship are better. However, you're still bringing a preexisting relationship and choosing from a limited pool—from your group of current or former colleagues.\n",
    "\n",
    "That's what lies at the bottom of this issue: **the limited pool of options**. If you're only looking at friends, relatives, and colleagues, you're restricting yourself to a very tiny fraction of everybody you could possibly launch a company with.\n",
    "\n",
    "### The Complete Stranger\n",
    "\n",
    "Much has been written about how to connect with complete strangers who are ideally also looking for co-founders, so we won't get into that here. This article is about why it's a good idea to do so (and how to think about it).\n",
    "\n",
    "That said, why is it a good idea to start a company with a complete stranger? To the points above:\n",
    "\n",
    "- There is no preexisting relationship. No friendship or family tie to protect, no old stories, no hurt feelings by somebody who is/was close to you. There's no baggage. This relationship is a blank slate, and its foundational pillar will, above all else, be the company you want to start together. If the relationship goes south, it doesn't impact any other relationship you have and treasure.\n",
    "- Tough conversations are all business. Nothing else can seep in, because there *is* nothing else in the relationship. If you're called out because you're perceived as lazy, or if the other person is delivering sloppy material, then that can be transactionally communicated at face value.\n",
    "- When you're evaluating strangers for potential co-founders, you can evaluate them *exclusively* on business criteria. Experience, skillset, ambition, work ethic, personal fit*, etc.\n",
    "\n",
    "### The Perfect Stranger\n",
    "\n",
    "Yes, personal fit\\*. It's all well and good if you both want to create a certain type of company, and if you're both ambitious and hard-working, and if the other person's technical chops complement your business ones (or whatever complement you seek). But if there's no <u>click</u> between the two of you, if the chemistry isn't there, don't do it. Avoid pain and regret down the line. *Don't do it*.\n",
    "\n",
    "Co-founder relationships can fall apart for any number of reasons, and an early evalution of personal fit can indicate whether the two of you will be able to stand each other when any version of a relationship-threatening factors arises. So look at:\n",
    "\n",
    "- Motivation. Why does this person want to start a company? May that later lead them to make decisions that you disagree with?\n",
    "- Values. You don't have to be fully aligned on these, but make sure you don't have any values that clash.\n",
    "- Temper. As suggested above, disagreements arise. How bad is the other person's temper when they get mad? How easily do they get mad? If they become rude when they get mad, is it a level of rudeness that you can tolerate? Are they destructive when angry?\n",
    "- Sense of humor. You don't have to make them laugh, but you have to make sure that one of you won't offend the other because of a more risqué idea of what's funny and jokeable-about.\n",
    "- Work ethic. You should both be seeking to put in the same amount of time and effort every week, and that your concepts of quality are comparable. An undiscussed imbalance in this may lead to (bitter) frustration.\n",
    "- Communication preference. Can you communicate in a way and through a channel that both of you like? Are there any hard rules that the other must take into account (e.g. \"never text me after 9pm\")? How do you feel about unscheduled phone calls? Make sure there are no deal-breakers here.\n",
    "- Detail orientation. If one of you is detail-minded and the other isn't, that's fine—just make sure that this difference in approaches to detail is complementary instead of clash-generating.\n",
    "- Patience. In a business partnership of equals, nobody is perfect. Are each of you patient enough with what you see as the other's shortcomings, or will it begin to grate on one of you after a while?\n",
    "- Work-life balance ideals. This is alluded to above, but to touch upon it specifically, make sure you're aligned on how much time and effort each one will put in, and that your other life fronts are also transparently on the table (e.g. family, sports, another business, etc.). It's possible to have a good partnership with different positions on work-life balance, but staunch agreement must be reached on this *before* any work is begun.\n",
    "- Risk profile. What do you both stand to lose? How close are you willing to graze failure, personal bankruptcy, this new company impacting your personal life, before you consider cutting the cord? There is no correct risk profile; you must both be aligned on what your risk profile as a team is (which necessarily has to respect each individual's attitude to risk, be it derived from  personal life circumstances or otherwise).\n",
    "- Tolerance for change. Are you the kind of person who balks at changing a course of action or strategy once its on rails? Are they? If you're either too change-averse or too change-happy, you might want to take a close look at whether you want to do this at all. Starting a new company requires always being open to a change of plans, but also disciplined attachment to a plan when it makes sense.\n",
    "- Add anything else that comes to mind. You'll have parameters that aren't on the above list (which isn't meant to be exhaustive and is in no particular order) that might be of importance to you.\n",
    "\n",
    "We started this article talking about the dangers of personal relationships when seeking out a co-founder. Here's what's nice: you may find that, if you begin a company with a complete stranger, you end up becoming good friends. It may become a very close friendship, one that last years or even decades(particularly if you succeed). And that's fine, that's great! It works because the central pillar, the birthing pillar of the relationship, wasn't a friendship or any other sort of personal bond. It was business. And the tone of business will thus never taint the relationship because it's at the heart of it.\n",
    "\n",
    "*-*\n",
    "\n",
    "Jeremy and Lucas, the co-founders of [Krixik](https://krixik-docs.readthedocs.io/en/latest/), met as complete strangers on the internet when they were both 40 years old. Everything above clicked, and the business took off. This article is a distillation of learnings derived during their early experience together and throughout their experiences before they met."
   ]
  }
 ],
 "metadata": {
  "kernelspec": {
   "display_name": "Python 3",
   "language": "python",
   "name": "python3"
  },
  "language_info": {
   "codemirror_mode": {
    "name": "ipython",
    "version": 3
   },
   "file_extension": ".py",
   "mimetype": "text/x-python",
   "name": "python",
   "nbconvert_exporter": "python",
   "pygments_lexer": "ipython3",
   "version": "3.12.0"
  }
 },
 "nbformat": 4,
 "nbformat_minor": 2
}
