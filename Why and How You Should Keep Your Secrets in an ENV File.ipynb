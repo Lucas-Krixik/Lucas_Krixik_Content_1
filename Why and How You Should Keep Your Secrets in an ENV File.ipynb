{
 "cells": [
  {
   "cell_type": "code",
   "execution_count": 2,
   "metadata": {},
   "outputs": [
    {
     "name": "stdout",
     "output_type": "stream",
     "text": [
      "Requirement already satisfied: krixik in c:\\users\\lucas\\appdata\\local\\programs\\python\\python312\\lib\\site-packages (1.1.17)\n",
      "Requirement already satisfied: boto3 in c:\\users\\lucas\\appdata\\local\\programs\\python\\python312\\lib\\site-packages (from krixik) (1.34.39)\n",
      "Requirement already satisfied: nltk in c:\\users\\lucas\\appdata\\local\\programs\\python\\python312\\lib\\site-packages (from krixik) (3.8.1)\n",
      "Requirement already satisfied: numpy in c:\\users\\lucas\\appdata\\local\\programs\\python\\python312\\lib\\site-packages (from krixik) (1.26.1)\n",
      "Requirement already satisfied: pillow in c:\\users\\lucas\\appdata\\local\\programs\\python\\python312\\lib\\site-packages (from krixik) (10.2.0)\n",
      "Requirement already satisfied: pyaml in c:\\users\\lucas\\appdata\\local\\programs\\python\\python312\\lib\\site-packages (from krixik) (23.12.0)\n",
      "Requirement already satisfied: pypdf in c:\\users\\lucas\\appdata\\local\\programs\\python\\python312\\lib\\site-packages (from krixik) (3.17.1)\n",
      "Requirement already satisfied: pytest in c:\\users\\lucas\\appdata\\local\\programs\\python\\python312\\lib\\site-packages (from krixik) (7.4.3)\n",
      "Requirement already satisfied: pytest-subtests in c:\\users\\lucas\\appdata\\local\\programs\\python\\python312\\lib\\site-packages (from krixik) (0.11.0)\n",
      "Requirement already satisfied: python-docx in c:\\users\\lucas\\appdata\\local\\programs\\python\\python312\\lib\\site-packages (from krixik) (1.1.0)\n",
      "Requirement already satisfied: python-dotenv in c:\\users\\lucas\\appdata\\local\\programs\\python\\python312\\lib\\site-packages (from krixik) (1.0.0)\n",
      "Requirement already satisfied: python-pptx in c:\\users\\lucas\\appdata\\local\\programs\\python\\python312\\lib\\site-packages (from krixik) (0.6.23)\n",
      "Requirement already satisfied: requests in c:\\users\\lucas\\appdata\\local\\programs\\python\\python312\\lib\\site-packages (from krixik) (2.31.0)\n",
      "Requirement already satisfied: botocore<1.35.0,>=1.34.39 in c:\\users\\lucas\\appdata\\local\\programs\\python\\python312\\lib\\site-packages (from boto3->krixik) (1.34.52)\n",
      "Requirement already satisfied: jmespath<2.0.0,>=0.7.1 in c:\\users\\lucas\\appdata\\local\\programs\\python\\python312\\lib\\site-packages (from boto3->krixik) (1.0.1)\n",
      "Requirement already satisfied: s3transfer<0.11.0,>=0.10.0 in c:\\users\\lucas\\appdata\\local\\programs\\python\\python312\\lib\\site-packages (from boto3->krixik) (0.10.0)\n",
      "Requirement already satisfied: click in c:\\users\\lucas\\appdata\\local\\programs\\python\\python312\\lib\\site-packages (from nltk->krixik) (8.1.7)\n",
      "Requirement already satisfied: joblib in c:\\users\\lucas\\appdata\\local\\programs\\python\\python312\\lib\\site-packages (from nltk->krixik) (1.3.2)\n",
      "Requirement already satisfied: regex>=2021.8.3 in c:\\users\\lucas\\appdata\\local\\programs\\python\\python312\\lib\\site-packages (from nltk->krixik) (2023.12.25)\n",
      "Requirement already satisfied: tqdm in c:\\users\\lucas\\appdata\\local\\programs\\python\\python312\\lib\\site-packages (from nltk->krixik) (4.66.1)\n",
      "Requirement already satisfied: PyYAML in c:\\users\\lucas\\appdata\\local\\programs\\python\\python312\\lib\\site-packages (from pyaml->krixik) (6.0.1)\n",
      "Requirement already satisfied: iniconfig in c:\\users\\lucas\\appdata\\local\\programs\\python\\python312\\lib\\site-packages (from pytest->krixik) (2.0.0)\n",
      "Requirement already satisfied: packaging in c:\\users\\lucas\\appdata\\roaming\\python\\python312\\site-packages (from pytest->krixik) (23.2)\n",
      "Requirement already satisfied: pluggy<2.0,>=0.12 in c:\\users\\lucas\\appdata\\local\\programs\\python\\python312\\lib\\site-packages (from pytest->krixik) (1.3.0)\n",
      "Requirement already satisfied: colorama in c:\\users\\lucas\\appdata\\roaming\\python\\python312\\site-packages (from pytest->krixik) (0.4.6)\n",
      "Requirement already satisfied: attrs>=19.2.0 in c:\\users\\lucas\\appdata\\local\\programs\\python\\python312\\lib\\site-packages (from pytest-subtests->krixik) (23.2.0)\n",
      "Requirement already satisfied: lxml>=3.1.0 in c:\\users\\lucas\\appdata\\local\\programs\\python\\python312\\lib\\site-packages (from python-docx->krixik) (4.9.3)\n",
      "Requirement already satisfied: typing-extensions in c:\\users\\lucas\\appdata\\local\\programs\\python\\python312\\lib\\site-packages (from python-docx->krixik) (4.8.0)\n",
      "Requirement already satisfied: XlsxWriter>=0.5.7 in c:\\users\\lucas\\appdata\\local\\programs\\python\\python312\\lib\\site-packages (from python-pptx->krixik) (3.1.9)\n",
      "Requirement already satisfied: charset-normalizer<4,>=2 in c:\\users\\lucas\\appdata\\local\\programs\\python\\python312\\lib\\site-packages (from requests->krixik) (3.3.1)\n",
      "Requirement already satisfied: idna<4,>=2.5 in c:\\users\\lucas\\appdata\\local\\programs\\python\\python312\\lib\\site-packages (from requests->krixik) (3.4)\n",
      "Requirement already satisfied: urllib3<3,>=1.21.1 in c:\\users\\lucas\\appdata\\local\\programs\\python\\python312\\lib\\site-packages (from requests->krixik) (2.0.7)\n",
      "Requirement already satisfied: certifi>=2017.4.17 in c:\\users\\lucas\\appdata\\local\\programs\\python\\python312\\lib\\site-packages (from requests->krixik) (2023.7.22)\n",
      "Requirement already satisfied: python-dateutil<3.0.0,>=2.1 in c:\\users\\lucas\\appdata\\roaming\\python\\python312\\site-packages (from botocore<1.35.0,>=1.34.39->boto3->krixik) (2.8.2)\n",
      "Requirement already satisfied: six>=1.5 in c:\\users\\lucas\\appdata\\roaming\\python\\python312\\site-packages (from python-dateutil<3.0.0,>=2.1->botocore<1.35.0,>=1.34.39->boto3->krixik) (1.16.0)\n",
      "Note: you may need to restart the kernel to use updated packages.\n"
     ]
    },
    {
     "name": "stderr",
     "output_type": "stream",
     "text": [
      "\n",
      "[notice] A new release of pip is available: 23.3.1 -> 24.0\n",
      "[notice] To update, run: python.exe -m pip install --upgrade pip\n"
     ]
    }
   ],
   "source": [
    "pip install krixik"
   ]
  },
  {
   "cell_type": "code",
   "execution_count": 3,
   "metadata": {},
   "outputs": [
    {
     "name": "stdout",
     "output_type": "stream",
     "text": [
      "SUCCESS: You are now authenticated.\n"
     ]
    }
   ],
   "source": [
    "import sys \n",
    "sys.path.append('..')\n",
    "from dotenv import load_dotenv\n",
    "import os\n",
    "load_dotenv()\n",
    "\n",
    "LUCAS_STAGING_API_KEY=os.getenv('LUCAS_STAGING_API_KEY')\n",
    "LUCAS_STAGING_API_URL=os.getenv('LUCAS_STAGING_API_URL')\n",
    "\n",
    "# import Krixik\n",
    "from krixik import krixik\n",
    "krixik.init(api_key = LUCAS_STAGING_API_KEY, \n",
    "            api_url = LUCAS_STAGING_API_URL)\n",
    "\n",
    "import json\n",
    "def json_print(data):\n",
    "    print(json.dumps(data, indent=2))\n",
    "\n",
    "%load_ext autoreload\n",
    "%autoreload 2 "
   ]
  },
  {
   "cell_type": "markdown",
   "metadata": {},
   "source": [
    "---"
   ]
  },
  {
   "cell_type": "markdown",
   "metadata": {},
   "source": [
    "---"
   ]
  },
  {
   "cell_type": "markdown",
   "metadata": {},
   "source": [
    "---"
   ]
  },
  {
   "cell_type": "markdown",
   "metadata": {},
   "source": [
    "# Why—and How—You Should Keep Your Secrets in an .ENV File\n",
    "\n",
    "### Introduction\n",
    "\n",
    "Information security begins with you.\n",
    "\n",
    "You've probably heard this many times. Two things stand:\n",
    "\n",
    "- It's true.\n",
    "- People don't take it to heart.\n",
    "\n",
    "The world is unfortunately full of criminals, ne'er-do-wells, and others who are all too happy to illegitimately access private information and systems and cause harm. Although this has been true for many decades, many experienced professionals still make it easy for them through shoddy security practices including:\n",
    "\n",
    "- Vanilla passwords (e.g. 'password1')\n",
    "- Storing their passwords where they can easily be accessed\n",
    "- Clicking on links in suspicious emails\n",
    "- Carelessly accessing secure systems in public places\n",
    "- **Accidentally publishing confidential information to public forums or repositories**\n",
    "\n",
    "A common version of this last point is accidentally publishing API secrets (e.g. an API key) with code, thus giving everybody out there access to whatever private systems these secrets protect.\n",
    "\n",
    "The best way to keep this from happening is simply to never have your API secrets in your code. This can be accomplished by keeping what are known as 'environment variables' in a `.env` file.\n",
    "\n",
    "### The `.env` file\n",
    "\n",
    "An `.env` file is a repository for environment variables, which are variables that hold information on the environment you're running your processes on. Simply put, in the `.env` file you define the value for these variables, and it's the only place these values are displayed. Anywhere else just shows the variable names, and thus their values (i.e. your secrets) are kept secure.\n",
    "\n",
    "For example, [Krixik](https://krixik-docs.readthedocs.io/en/latest/) users are given three different secrets when they set their account up. These are:\n",
    "\n",
    "- user_id\n",
    "- api_key\n",
    "- api_url\n",
    "\n",
    "Anybody in possession of these has full access to the user's account: to their data, their [pipelines](https://krixik-docs.readthedocs.io/en/latest/system/pipeline_creation/components_of_a_krixik_pipeline/), their ability to generate charges, etc. It's thus best to keep these separate from any code in which Krixik is leveraged.\n",
    "\n",
    "The contents of a Krixik .env file might look like this:\n",
    "\n",
    "> MY_API_KEY=XXab12XX-X12X-X12X-X12X-XXabcd1234XX\n",
    "> MY_API_URL=https://abcde12345.execute-api.us-west-2.amazonaws.com/pro\n",
    "> MY_USER_ID=XX12ab-XabX-XabX-XabX-XX1234abcdXX\n",
    "\n",
    "### python-dotenv\n",
    "\n",
    "If you're using Python, which <u>for now</u> is the only language the Krixik client supports, you'll need to leverage [python-dotenv](https://pypi.org/project/python-dotenv/) if you wish to use `.env` files for your processes. To learn about it in detail, please [click here](https://pypi.org/project/python-dotenv/).\n",
    "\n",
    "### Code example: using .env with Krixik\n",
    "\n",
    "We'll continue our [Krixik](https://krixik-docs.readthedocs.io/en/latest/) example with `.env` files. To do so, we simply need to run the following code when beginning a Krixik process. What follows could normally be in a single code block, but we'll break it up into separate code cells here for clarity.\n",
    "\n",
    "First, in case this is our very first Krixik process, we must [pip install](https://pypi.org/project/pip/) the Krixik client:"
   ]
  },
  {
   "cell_type": "code",
   "execution_count": null,
   "metadata": {},
   "outputs": [],
   "source": [
    "# pip install the Krixik client\n",
    "pip install krixik"
   ]
  },
  {
   "cell_type": "markdown",
   "metadata": {},
   "source": [
    "Now we'll need to bring `dotenv` through `sys` and load our `.env` file, as follows:"
   ]
  },
  {
   "cell_type": "code",
   "execution_count": null,
   "metadata": {},
   "outputs": [],
   "source": [
    "# bring dotenv through sys and load .env file\n",
    "import sys \n",
    "sys.path.append('..')\n",
    "from dotenv import load_dotenv\n",
    "import os\n",
    "load_dotenv()"
   ]
  },
  {
   "cell_type": "markdown",
   "metadata": {},
   "source": [
    "Our next step is to load the specific Krixik secrets we wish into variables here. We will use the `.env` file example earlier detailed in this document. The code to load our necessary API secrets is:"
   ]
  },
  {
   "cell_type": "code",
   "execution_count": null,
   "metadata": {},
   "outputs": [],
   "source": [
    "# set your secrets into local variables\n",
    "READY_API_KEY=os.getenv('MY_API_KEY')\n",
    "READY_API_URL=os.getenv('MY_API_URL')"
   ]
  },
  {
   "cell_type": "markdown",
   "metadata": {},
   "source": [
    "Finally, we'll import [Krixik](https://krixik-docs.readthedocs.io/en/latest/) and [initialize](https://krixik-docs.readthedocs.io/en/latest/system/initialization/initialize_and_authenticate/) a session with our `api_key` and `api_url` secrets."
   ]
  },
  {
   "cell_type": "code",
   "execution_count": null,
   "metadata": {},
   "outputs": [],
   "source": [
    "# import krixik and initialize a session with our secrets\n",
    "from krixik import krixik\n",
    "krixik.init(api_key = READY_API_KEY, \n",
    "            api_url = READY_API_URL)"
   ]
  },
  {
   "cell_type": "markdown",
   "metadata": {},
   "source": [
    "That's it! Our session initialized, we are now ready to start [creating](https://krixik-docs.readthedocs.io/en/latest/system/pipeline_creation/create_pipeline/) Krixik pipelines and building to our heart's content.\n",
    "\n",
    "Note that at no point in this opening code block is the value of any of the API secrets revealed. Our `user_id`, `api_key`, and `api_url` have remained hidden in a `.env` file that's safely ensconced away in the local drive, and are thus completely inaccessible to anybody trying to gain illegitimate access to this Krixik account.\n",
    "\n",
    "This doesn't just apply for Krixik, of course. Environment variables and [python-dotenv](https://pypi.org/project/python-dotenv/) `.env` files are valuable tools for secure Python operation, regardless what sort of project you're working on."
   ]
  }
 ],
 "metadata": {
  "kernelspec": {
   "display_name": "Python 3",
   "language": "python",
   "name": "python3"
  },
  "language_info": {
   "codemirror_mode": {
    "name": "ipython",
    "version": 3
   },
   "file_extension": ".py",
   "mimetype": "text/x-python",
   "name": "python",
   "nbconvert_exporter": "python",
   "pygments_lexer": "ipython3",
   "version": "3.12.0"
  }
 },
 "nbformat": 4,
 "nbformat_minor": 2
}
